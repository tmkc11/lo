{
 "cells": [
  {
   "cell_type": "code",
   "execution_count": null,
   "metadata": {},
   "outputs": [],
   "source": [
    "import pandas as pd\n",
    "from sklearn.preprocessing import StandardScaler\n",
    "import matplotlib.pyplot as plt\n",
    "from sklearn.cluster import KMeans,AgglomerativeClustering\n",
    "from sklearn.metrics import silhouette_score"
   ]
  },
  {
   "cell_type": "code",
   "execution_count": null,
   "metadata": {},
   "outputs": [],
   "source": [
    "data = pd.read_csv('./sales_data_sample.csv',encoding='latin')\n",
    "data"
   ]
  },
  {
   "cell_type": "code",
   "execution_count": null,
   "metadata": {},
   "outputs": [],
   "source": [
    "numeric = data[['QUANTITYORDERED','PRICEEACH','SALES']]\n",
    "scaled_data = StandardScaler().fit_transform(numeric)"
   ]
  },
  {
   "cell_type": "code",
   "execution_count": null,
   "metadata": {},
   "outputs": [],
   "source": [
    "sse=[]\n",
    "k_values = range(1,11)\n",
    "for k in k_values:\n",
    "    km = KMeans(n_clusters = k)\n",
    "    km.fit(scaled_data)\n",
    "    sse.append(km.inertia_)\n",
    "plt.plot(k_values,sse,marker = '.')\n",
    "plt.title(\"ELBOW METHOD\")\n",
    "plt.xlabel(\"K VALUES\")\n",
    "plt.ylabel(\"SUM OF SQUARED ERRORS\")"
   ]
  },
  {
   "cell_type": "code",
   "execution_count": null,
   "metadata": {},
   "outputs": [],
   "source": [
    "k = KMeans(n_clusters = 3,random_state=0)\n",
    "k.fit(scaled_data)\n",
    "kpred = k.fit_predict(scaled_data)\n",
    "data['K CLUSTERS'] = k.labels_\n",
    "data[['K CLUSTERS','QUANTITYORDERED','PRICEEACH','SALES']]"
   ]
  },
  {
   "cell_type": "code",
   "execution_count": null,
   "metadata": {},
   "outputs": [],
   "source": [
    "a = AgglomerativeClustering(n_clusters = 3)\n",
    "a.fit(scaled_data)\n",
    "apred = a.fit_predict(scaled_data)\n",
    "data['K CLUSTERS'] = a.labels_\n",
    "data[['K CLUSTERS','QUANTITYORDERED','PRICEEACH','SALES']]"
   ]
  },
  {
   "cell_type": "code",
   "execution_count": null,
   "metadata": {},
   "outputs": [],
   "source": [
    "print('K means : ',silhouette_score(scaled_data,kpred))\n",
    "print('Hierachical :',silhouette_score(scaled_data,apred))"
   ]
  }
 ],
 "metadata": {
  "kernelspec": {
   "display_name": "base",
   "language": "python",
   "name": "python3"
  },
  "language_info": {
   "codemirror_mode": {
    "name": "ipython",
    "version": 3
   },
   "file_extension": ".py",
   "mimetype": "text/x-python",
   "name": "python",
   "nbconvert_exporter": "python",
   "pygments_lexer": "ipython3",
   "version": "3.12.4"
  }
 },
 "nbformat": 4,
 "nbformat_minor": 2
}
